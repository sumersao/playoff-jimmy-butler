{
 "cells": [
  {
   "cell_type": "code",
   "execution_count": 1,
   "metadata": {},
   "outputs": [],
   "source": [
    "import pandas as pd"
   ]
  },
  {
   "cell_type": "code",
   "execution_count": 2,
   "metadata": {},
   "outputs": [
    {
     "name": "stderr",
     "output_type": "stream",
     "text": [
      "/var/folders/m0/l6jpq4w579906wrx6f1v04700000gn/T/ipykernel_33722/446194918.py:2: DtypeWarning: Columns (6) have mixed types. Specify dtype option on import or set low_memory=False.\n",
      "  df = pd.read_csv('games_details.csv')\n"
     ]
    }
   ],
   "source": [
    "# get the raw data \n",
    "df = pd.read_csv('games_details.csv')\n",
    "games = pd.read_csv('games.csv')\n",
    "all_stars_raw = pd.read_csv('all_stars_raw.csv', header=None)\n",
    "players_df = pd.read_csv('players.csv')"
   ]
  },
  {
   "cell_type": "code",
   "execution_count": 3,
   "metadata": {},
   "outputs": [],
   "source": [
    "# dedup the all stars and get their ids\n",
    "all_stars = all_stars_raw.drop_duplicates()\n",
    "all_stars = all_stars.drop([2,3], axis=1)\n",
    "all_stars.columns = ['PLAYER_NAME', 'hi']\n",
    "# get the player id from the players_df\n",
    "all_stars = pd.merge(all_stars, players_df, on='PLAYER_NAME', how='left')\n",
    "all_stars = all_stars.drop(['hi', 'TEAM_ID', 'SEASON'], axis=1)\n",
    "all_stars = all_stars.drop_duplicates()\n",
    "all_stars = all_stars.dropna()\n",
    "\n",
    "all_stars.to_csv('all_stars.csv', index=False)"
   ]
  },
  {
   "cell_type": "code",
   "execution_count": 5,
   "metadata": {},
   "outputs": [
    {
     "name": "stderr",
     "output_type": "stream",
     "text": [
      "/var/folders/m0/l6jpq4w579906wrx6f1v04700000gn/T/ipykernel_33722/1980753060.py:4: DtypeWarning: Columns (6) have mixed types. Specify dtype option on import or set low_memory=False.\n",
      "  df = pd.read_csv('games_details.csv')\n",
      "669560it [00:22, 29928.90it/s]\n"
     ]
    },
    {
     "name": "stdout",
     "output_type": "stream",
     "text": [
      "23362\n",
      "377906\n",
      "669560\n"
     ]
    }
   ],
   "source": [
    "from tqdm import tqdm\n",
    "# split the data into two parts: playoffs and not playoffs\n",
    "# add the date of the game to the df\n",
    "df = pd.read_csv('games_details.csv')\n",
    "df = pd.merge(df, games[['GAME_ID', 'GAME_DATE_EST']], on='GAME_ID', how='left')\n",
    "\n",
    "playoff_starts = ['2012-04-28', '2013-04-20', '2014-04-19', '2015-04-18', '2016-04-16', '2017-04-15', '2018-04-14', '2019-04-13', '2020-08-17', '2021-05-22', '2022-04-16']\n",
    "playoff_ends = ['2012-06-21', '2013-05-05', '2014-06-15', '2015-06-16', '2016-06-19', '2017-06-12', '2018-06-08', '2019-06-13', '2020-10-11', '2021-07-20', '2022-06-16']\n",
    "\n",
    "#create 2 empty dataframes with the same columns as df\n",
    "df_playoffs = pd.DataFrame(columns=df.columns)\n",
    "df_regular = pd.DataFrame(columns=df.columns)\n",
    "\n",
    "df_playoffs_list = []\n",
    "df_regular_list = []\n",
    "\n",
    "# include the game if it is between the start and end date of any index in the playoff_starts list\n",
    "for i, row in tqdm(df.iterrows()):\n",
    "    for j in range(len(playoff_starts)):\n",
    "        if row['GAME_DATE_EST'] >= playoff_starts[j] and row['GAME_DATE_EST'] <= playoff_ends[j]:\n",
    "            df_playoffs_list.append(row)\n",
    "            break\n",
    "        if j == (len(playoff_starts) - 1):\n",
    "            # we've made it the whole way and didnt find a playoffs. So see if this game was played in the reg season\n",
    "            if row['GAME_DATE_EST'] >= '2011-07-01':\n",
    "                df_regular_list.append(row)\n",
    "\n",
    "df_playoffs = pd.DataFrame(df_playoffs_list)    \n",
    "df_regular = pd.DataFrame(df_regular_list)\n",
    "\n",
    "# save these two dataframes\n",
    "df_playoffs.to_csv('games_details_playoffs.csv', index=False)\n",
    "df_regular.to_csv('games_details_regular.csv', index=False)"
   ]
  },
  {
   "cell_type": "code",
   "execution_count": 6,
   "metadata": {},
   "outputs": [
    {
     "name": "stderr",
     "output_type": "stream",
     "text": [
      "/var/folders/m0/l6jpq4w579906wrx6f1v04700000gn/T/ipykernel_33722/4165856932.py:2: DtypeWarning: Columns (6) have mixed types. Specify dtype option on import or set low_memory=False.\n",
      "  df_regular = pd.read_csv('games_details_regular.csv')\n"
     ]
    }
   ],
   "source": [
    "# get the regular season and playoffs data\n",
    "df_regular = pd.read_csv('games_details_regular.csv')\n",
    "df_playoffs = pd.read_csv('games_details_playoffs.csv')\n",
    "\n",
    "# drop rows that have 'MIN' column as NaN\n",
    "df_regular = df_regular.dropna(subset=['MIN'])\n",
    "df_playoffs = df_playoffs.dropna(subset=['MIN'])\n",
    "\n",
    "# we need to convert the minutes played to a float\n",
    "def convert_minutes_to_float(minutes):\n",
    "    if minutes == 0:\n",
    "        return 0\n",
    "    else:\n",
    "        # round to the nearest minute\n",
    "        minutes = minutes.split(':')\n",
    "        if len(minutes) == 1:\n",
    "            return int(float(minutes[0]))\n",
    "        return int(float(minutes[0])) + (int(float(minutes[1])) > 30)\n",
    "    \n",
    "df_regular['MIN'] = df_regular['MIN'].apply(convert_minutes_to_float)\n",
    "df_playoffs['MIN'] = df_playoffs['MIN'].apply(convert_minutes_to_float)\n",
    "\n",
    "df_playoffs.to_csv('games_details_playoffs.csv', index=False)\n",
    "df_regular.to_csv('games_details_regular.csv', index=False)"
   ]
  },
  {
   "cell_type": "code",
   "execution_count": 7,
   "metadata": {},
   "outputs": [
    {
     "name": "stderr",
     "output_type": "stream",
     "text": [
      "/var/folders/m0/l6jpq4w579906wrx6f1v04700000gn/T/ipykernel_33722/2450911272.py:5: DtypeWarning: Columns (6) have mixed types. Specify dtype option on import or set low_memory=False.\n",
      "  df_regular = pd.read_csv('games_details_regular.csv')\n"
     ]
    }
   ],
   "source": [
    "# we also want to compute the playoff and regular season averages for jimmy butler during the years\n",
    "# from 2015 - current (when he was an all star) and from 2020 - current (when he was on the heat)\n",
    "\n",
    "# get the stats\n",
    "df_regular = pd.read_csv('games_details_regular.csv')\n",
    "df_playoffs = pd.read_csv('games_details_playoffs.csv')\n",
    "\n",
    "# get the player id\n",
    "player_id = all_stars[all_stars['PLAYER_NAME'] == 'Jimmy Butler']['PLAYER_ID'].values[0]\n",
    "\n",
    "# get the regular season stats for 2015 - current\n",
    "jimmy_all_star_regular = df_regular[(df_regular['PLAYER_ID'] == player_id) & (df_regular['GAME_DATE_EST'] >= '2014-07-01')]\n",
    "# get the playoffs stats for 2015 - current\n",
    "jimmy_all_star_playoffs = df_playoffs[(df_playoffs['PLAYER_ID'] == player_id) & (df_playoffs['GAME_DATE_EST'] >= '2015-04-18')]\n",
    "\n",
    "# get the regular season stats for 2020 - current\n",
    "jimmy_heat_regular = df_regular[(df_regular['PLAYER_ID'] == player_id) & (df_regular['GAME_DATE_EST'] >= '2019-07-01')]\n",
    "# get the playoffs stats for 2020 - current\n",
    "jimmy_heat_playoffs = df_playoffs[(df_playoffs['PLAYER_ID'] == player_id) & (df_playoffs['GAME_DATE_EST'] >= '2020-08-17')]"
   ]
  },
  {
   "cell_type": "code",
   "execution_count": 9,
   "metadata": {},
   "outputs": [
    {
     "name": "stderr",
     "output_type": "stream",
     "text": [
      "/var/folders/m0/l6jpq4w579906wrx6f1v04700000gn/T/ipykernel_33722/620625385.py:7: DtypeWarning: Columns (6) have mixed types. Specify dtype option on import or set low_memory=False.\n",
      "  df_regular = pd.read_csv('games_details_regular.csv')\n",
      "77it [00:00, 245.14it/s]\n"
     ]
    }
   ],
   "source": [
    "# now for each all star, we want to get the average minutes played, points, rebounds, assists, steals, blocks, turnovers, and plus minus for the regular season and playoffs respectively\n",
    "\n",
    "# get the all stars\n",
    "all_stars = pd.read_csv('all_stars.csv')\n",
    "\n",
    "# get the regular season and playoffs data\n",
    "df_regular = pd.read_csv('games_details_regular.csv')\n",
    "df_playoffs = pd.read_csv('games_details_playoffs.csv')\n",
    "\n",
    "# we need to convert the minutes played to a float\n",
    "\n",
    "# create a dataframe to store the averages\n",
    "all_stars_averages = pd.DataFrame(columns=['PLAYER_NAME', 'PLAYER_ID', 'MIN', 'FGM', 'FGA', 'FG_PCT', 'FG3M', 'FG3A',\n",
    "                                           'FG3_PCT', 'FTM', 'FTA', 'FT_PCT', 'PTS', 'OREB', 'DREB', 'REB', 'AST', 'STL', \n",
    "                                           'BLK', 'TO', 'PF', 'PLUS_MINUS', 'SEASON_TYPE', 'GAMES_PLAYED'])\n",
    "\n",
    "# for each player id, get the average stats for the regular season and playoffs\n",
    "for i, row in tqdm(all_stars.iterrows()):\n",
    "    player_id = row['PLAYER_ID']\n",
    "\n",
    "    # get the regular season stats\n",
    "    player_regular = df_regular[df_regular['PLAYER_ID'] == player_id]\n",
    "    # get the playoffs stats\n",
    "    player_playoffs = df_playoffs[df_playoffs['PLAYER_ID'] == player_id]\n",
    "\n",
    "    # get the averages\n",
    "    player_regular_avg = player_regular[all_stars_averages.columns[2: -2]].mean()\n",
    "    player_playoffs_avg = player_playoffs[all_stars_averages.columns[2: -2]].mean()\n",
    "\n",
    "    # add the player id\n",
    "    player_regular_avg['PLAYER_ID'] = player_id\n",
    "    player_playoffs_avg['PLAYER_ID'] = player_id\n",
    "\n",
    "    # add the player name\n",
    "    player_regular_avg['PLAYER_NAME'] = row['PLAYER_NAME']\n",
    "    player_playoffs_avg['PLAYER_NAME'] = row['PLAYER_NAME']\n",
    "\n",
    "    # add the season type\n",
    "    player_regular_avg['SEASON_TYPE'] = 'Regular'\n",
    "    player_playoffs_avg['SEASON_TYPE'] = 'Playoffs'\n",
    "\n",
    "    # we also need to include the number of games played\n",
    "    player_regular_avg['GAMES_PLAYED'] = len(player_regular)\n",
    "    player_playoffs_avg['GAMES_PLAYED'] = len(player_playoffs)\n",
    "\n",
    "    # if the player didn't play at least 30 playoff games we don't want to include them\n",
    "    if len(player_playoffs) < 30:\n",
    "        continue\n",
    "\n",
    "    # add these to the dataframe\n",
    "    all_stars_averages.loc[len(all_stars_averages)] = player_regular_avg\n",
    "    all_stars_averages.loc[len(all_stars_averages)] = player_playoffs_avg\n",
    "\n",
    "# now add the averages for jimmy_butler_all_star\n",
    "jimmy_all_star_regular_avg = jimmy_all_star_regular[all_stars_averages.columns[2: -2]].mean()\n",
    "jimmy_all_star_playoffs_avg = jimmy_all_star_playoffs[all_stars_averages.columns[2: -2]].mean()\n",
    "\n",
    "# add the player id\n",
    "jimmy_all_star_regular_avg['PLAYER_ID'] = player_id\n",
    "jimmy_all_star_playoffs_avg['PLAYER_ID'] = player_id\n",
    "\n",
    "# add the player name\n",
    "jimmy_all_star_regular_avg['PLAYER_NAME'] = 'Jimmy Butler (All Star)'\n",
    "jimmy_all_star_playoffs_avg['PLAYER_NAME'] = 'Jimmy Butler (All Star)'\n",
    "\n",
    "# add the season type\n",
    "jimmy_all_star_regular_avg['SEASON_TYPE'] = 'Regular'\n",
    "jimmy_all_star_playoffs_avg['SEASON_TYPE'] = 'Playoffs'\n",
    "\n",
    "# we also need to include the number of games played\n",
    "jimmy_all_star_regular_avg['GAMES_PLAYED'] = len(jimmy_all_star_regular)\n",
    "jimmy_all_star_playoffs_avg['GAMES_PLAYED'] = len(jimmy_all_star_playoffs)\n",
    "\n",
    "# add these to the dataframe\n",
    "all_stars_averages.loc[len(all_stars_averages)] = jimmy_all_star_regular_avg\n",
    "all_stars_averages.loc[len(all_stars_averages)] = jimmy_all_star_playoffs_avg\n",
    "\n",
    "# now add the averages for jimmy_butler_heat\n",
    "jimmy_heat_regular_avg = jimmy_heat_regular[all_stars_averages.columns[2: -2]].mean()\n",
    "jimmy_heat_playoffs_avg = jimmy_heat_playoffs[all_stars_averages.columns[2: -2]].mean()\n",
    "\n",
    "# add the player id\n",
    "jimmy_heat_regular_avg['PLAYER_ID'] = player_id\n",
    "jimmy_heat_playoffs_avg['PLAYER_ID'] = player_id\n",
    "\n",
    "# add the player name\n",
    "jimmy_heat_regular_avg['PLAYER_NAME'] = 'Jimmy Butler (Heat)'\n",
    "jimmy_heat_playoffs_avg['PLAYER_NAME'] = 'Jimmy Butler (Heat)'\n",
    "\n",
    "# add the season type\n",
    "jimmy_heat_regular_avg['SEASON_TYPE'] = 'Regular'\n",
    "jimmy_heat_playoffs_avg['SEASON_TYPE'] = 'Playoffs'\n",
    "\n",
    "# we also need to include the number of games played\n",
    "jimmy_heat_regular_avg['GAMES_PLAYED'] = len(jimmy_heat_regular)\n",
    "jimmy_heat_playoffs_avg['GAMES_PLAYED'] = len(jimmy_heat_playoffs)\n",
    "\n",
    "# add these to the dataframe\n",
    "all_stars_averages.loc[len(all_stars_averages)] = jimmy_heat_regular_avg\n",
    "all_stars_averages.loc[len(all_stars_averages)] = jimmy_heat_playoffs_avg\n",
    "\n",
    "# save the dataframe\n",
    "all_stars_averages.to_csv('all_stars_averages.csv', index=False)"
   ]
  }
 ],
 "metadata": {
  "kernelspec": {
   "display_name": "jimmy",
   "language": "python",
   "name": "python3"
  },
  "language_info": {
   "codemirror_mode": {
    "name": "ipython",
    "version": 3
   },
   "file_extension": ".py",
   "mimetype": "text/x-python",
   "name": "python",
   "nbconvert_exporter": "python",
   "pygments_lexer": "ipython3",
   "version": "3.11.3"
  },
  "orig_nbformat": 4
 },
 "nbformat": 4,
 "nbformat_minor": 2
}
